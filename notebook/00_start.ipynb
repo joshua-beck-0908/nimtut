{
 "cells": [
  {
   "cell_type": "markdown",
   "metadata": {},
   "source": [
    "<style> p { max-width: 500px; } </style>\n",
    "\n",
    "# nim\n",
    "\n",
    "This one's a bit of a curveball, but I'll try it.\n",
    "\n",
    "The official website is:\n",
    "https://nim-lang.org/\n",
    "\n",
    "I gave their download script a quick check and ran it to install on my Linux box.\n",
    "\n",
    "```sh\n",
    "curl https://nim-lang.org/choosenim/init.sh -sSf | sh\n",
    "```\n",
    "\n",
    "The install was automatic....ly dumped in my home directory. ffs.\n",
    "\n",
    "I'd move it, but I can't predict the results for future packages.\n",
    "\n",
    "I added the 'nibble' directory to my shell paths.\n",
    "\n",
    "Next I found a Jupyter kernel for these notebooks. \n",
    "One was available here:\n",
    "https://github.com/stisa/jupyternim\n",
    "\n",
    "Install was run with the following command:\n",
    "```sh\n",
    "nimble install jupyternim -y\n",
    "```\n",
    "This also seems to have served as a great test that the compiler and its package manager are working. \n",
    "\n",
    "No issues with the install. \n",
    "\n",
    "I used the Nim tutorial here:\n",
    "\n",
    "https://nim-lang.org/docs/tut1.html\n",
    "\n",
    "I also install this Nim language pluging to get syntax highlighing:\n",
    "\n",
    "https://marketplace.visualstudio.com/items?itemName=NimLang.nimlang"
   ]
  }
 ],
 "metadata": {
  "language_info": {
   "name": "python"
  }
 },
 "nbformat": 4,
 "nbformat_minor": 2
}
