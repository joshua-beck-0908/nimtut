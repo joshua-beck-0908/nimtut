{
 "cells": [
  {
   "cell_type": "markdown",
   "metadata": {},
   "source": [
    "<style> * { max-width: 500px; } </style>\n",
    "\n",
    "# [Control flow statements](https://nim-lang.org/docs/tut1.html#control-flow-statements)\n",
    "\n",
    "Time for some useful program ingredients.\n",
    "We'll need more than variables and assignments after all!\n",
    "\n",
    "\n"
   ]
  },
  {
   "cell_type": "markdown",
   "metadata": {
    "vscode": {
     "languageId": "plaintext"
    }
   },
   "source": [
    "<style> * { max-width: 500px; } </style>\n",
    "\n",
    "## [If statement](https://nim-lang.org/docs/tut1.html#control-flow-statements-if-statement)\n",
    "\n",
    "The `if` statement looks very Pythonic.\n",
    "\n",
    "Here's their example:\n",
    "```nim\n",
    "let name = readLine(stdin)\n",
    "if name == \"\":\n",
    "  echo \"Poor soul, you lost your name?\"\n",
    "elif name == \"name\":\n",
    "  echo \"Very funny, your name is name.\"\n",
    "else:\n",
    "  echo \"Hi, \", name, \"!\"\n",
    "```\n",
    "\n",
    "A few things to note:\n",
    " * They use `elif` as the keyword for extra conditions. Saves a few characters over `else if` I suppose.\n",
    " * No brackets for non-functions. Just: `[el]if (condition):`\n",
    " * Typical double equals used. I'll bet `>=` `<=`, and `!=` work as well.\n",
    " \n"
   ]
  },
  {
   "cell_type": "code",
   "execution_count": 3,
   "metadata": {},
   "outputs": [
    {
     "data": {
      "text/plain": [
       "A is some other number above four.\n"
      ]
     },
     "execution_count": 3,
     "metadata": {},
     "output_type": "execute_result"
    }
   ],
   "source": [
    "# Variable type seems to be implicit in this case.\n",
    "var a = 5\n",
    "if a <= 3:\n",
    "    echo \"A is less than four\"\n",
    "elif a == 4:\n",
    "    echo \"A is four\"\n",
    "elif a != 4:\n",
    "    echo \"A is some other number above four.\"\n"
   ]
  },
  {
   "cell_type": "markdown",
   "metadata": {},
   "source": [
    "So yeah, they all work."
   ]
  },
  {
   "cell_type": "markdown",
   "metadata": {},
   "source": [
    "<style> * { max-width: 500px; } </style>\n",
    "\n",
    "## [Case statement](https://nim-lang.org/docs/tut1.html#control-flow-statements-case-statement)\n",
    "\n",
    "Nim has your standard switch/case/default statement.\n",
    "\n",
    "The naming however is a little... different. 😑\n",
    "\n",
    "```nim\n",
    "let name = readLine(stdin)\n",
    "case name\n",
    "of \"\":\n",
    "  echo \"Poor soul, you lost your name?\"\n",
    "of \"name\":\n",
    "  echo \"Very funny, your name is name.\"\n",
    "of \"Dave\", \"Frank\":\n",
    "  echo \"Cool name!\"\n",
    "else:\n",
    "  echo \"Hi, \", name, \"!\"\n",
    "```\n",
    "Sounds like a detective novel: *The Case Of Dave Frank*.\n",
    "\n",
    "I guess \"of\" works pretty well syntactically. \n",
    "\n",
    "Anyway aside from the naming it's a pretty typical modern switch statement.\n",
    "\n",
    "It can also be used with numbers of course:\n",
    "```nim\n",
    "\n",
    "case n\n",
    "of 0..2, 4..7: echo \"The number is in the set: {0, 1, 2, 4, 5, 6, 7}\"\n",
    "of 3, 8: echo \"The number is 3 or 8\"\n",
    "else: discard\n",
    "```\n",
    "\n",
    "Note that you **must** have an `else` statement in the above code or it will not compile.\n",
    "\n",
    "They seem to take a page from Rust's book and make you handle every possible value.\n",
    "\n",
    "So it seems the compile would take into account if the range could be less.\n",
    "e.g. The variable is a const set to five, so you'd only need a five case or set to a number less than ten.\n",
    "\n",
    "Seems like it would be pretty handy to have a \">=5\" case, but they don't seem to have it. Though there are `(min)...(max)` style ranges. \n",
    "\n",
    "There's also a `discard` statement which seems to be the equivalent of Python's `pass` statement in that it's for cases where a block must be present but you don't actually want to do anything.\n",
    "\n",
    "They've hinted at `discard` accepting some kind of parameter, but let's not go into that yet.\n",
    "\n",
    "\n"
   ]
  },
  {
   "cell_type": "markdown",
   "metadata": {},
   "source": []
  }
 ],
 "metadata": {
  "kernelspec": {
   "display_name": "Nim",
   "language": "nim",
   "name": "jupyternimspec"
  },
  "language_info": {
   "file_extension": ".nim",
   "mimetype": "text/x-nim",
   "name": "nim",
   "version": "2.2.0"
  }
 },
 "nbformat": 4,
 "nbformat_minor": 2
}
