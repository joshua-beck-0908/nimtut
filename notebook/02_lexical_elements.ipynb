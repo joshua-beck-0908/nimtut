{
 "cells": [
  {
   "cell_type": "markdown",
   "metadata": {},
   "source": [
    "<style> ul, p { max-width: 500px; } </style>\n",
    "\n",
    "# [Lexical elements](https://nim-lang.org/docs/tut1.html#lexical-elements)\n",
    "\n",
    "There's your usual quoting system. \n",
    "\n",
    "Double quotes for strings for single characters.\n",
    "\n",
    "I'd prefer Python-style where they're all the same, but that wouldn't work with the type system.\n",
    "\n",
    "Fortunately, they do have a few familiar features for the pythonically-inclined:\n",
    " * Multiline literals that start and end with three double quotes.\n",
    "    - `\"\"\" some long comment with stickman: \\_o_/ \"\"\"`\n",
    "    - Note that backslash escapes aren't interpreted in those.\n",
    " * Raw strings are permitted with `r\"...\"`\n",
    "    - In case you need these kind of paths: `r\"D:\\data\\new\\tables\"`\n",
    "      - Why did you do this Microsoft???\n",
    " * Hashes can be used for comments.\n",
    "    - Or double hashes for doccomments.\n",
    "      - Beware, these aren't allowed everywhere.\n",
    "    - There's also a `#[ ... ]#` syntax for nests comments, if you need those.\n"
   ]
  },
  {
   "cell_type": "markdown",
   "metadata": {},
   "source": [
    "<style> p { max-width: 500px; } </style>\n",
    "\n",
    "# [Numbers](https://nim-lang.org/docs/tut1.html#lexical-elements-numbers)\n",
    "\n",
    "All the usual options in modern languages are allowed.\n",
    "\n",
    "`0x` for hex, `0b` for binary, `0o` for octals. No surprises here.\n",
    "\n",
    "You can use underscores in big numbers for readability and write floats in scientific notation (e.g. `2.4e5`).\n",
    "\n",
    "\n"
   ]
  }
 ],
 "metadata": {
  "language_info": {
   "name": "python"
  }
 },
 "nbformat": 4,
 "nbformat_minor": 2
}
