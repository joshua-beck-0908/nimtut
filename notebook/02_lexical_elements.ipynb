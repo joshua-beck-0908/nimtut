{
 "cells": [
  {
   "cell_type": "markdown",
   "metadata": {},
   "source": [
    "<style> ul, p { max-width: 500px; } </style>\n",
    "\n",
    "# [Lexical elements](https://nim-lang.org/docs/tut1.html#lexical-elements)\n",
    "\n",
    "There's your usual quoting system. \n",
    "\n",
    "Double quotes for strings for single characters.\n",
    "\n",
    "I'd prefer Python-style where they're all the same, but that wouldn't work with the type system.\n",
    "\n",
    "Fortunately, they do have a few familiar features for the pythonically-inclined:\n",
    " * Multiline literals that start and end with three double quotes.\n",
    "    - `\"\"\" some long comment with stickman: \\_o_/ \"\"\"`\n",
    "    - Note that backslash escapes aren't interpreted in those.\n",
    " * Raw strings are permitted with `r\"...\"`\n",
    "    - In case you need these kind of paths: `r\"D:\\data\\new\\tables\"`\n",
    "      - Why did you do this Microsoft???\n",
    " * Hashes can be used for comments.\n",
    "    - Or double hashes for doccomments.\n",
    "      - Beware, these aren't allowed everywhere.\n",
    "    - There's also a `#[ ... ]#` syntax for nests comments, if you need those.\n"
   ]
  },
  {
   "cell_type": "markdown",
   "metadata": {},
   "source": [
    "<style> p { max-width: 500px; } </style>\n",
    "\n",
    "## [Numbers](https://nim-lang.org/docs/tut1.html#lexical-elements-numbers)\n",
    "\n",
    "All the usual options in modern languages are allowed.\n",
    "\n",
    "`0x` for hex, `0b` for binary, `0o` for octals. No surprises here.\n",
    "\n",
    "You can use underscores in big numbers for readability and write floats in scientific notation (e.g. `3_141_592`, `2.4e5`).\n",
    "\n",
    "Any number with a dot or an 'e' is a floating point value.\n",
    "\n"
   ]
  },
  {
   "cell_type": "markdown",
   "metadata": {},
   "source": [
    "<style> * { max-width: 500px; } </style>\n",
    "\n",
    "# [The var statement](https://nim-lang.org/docs/tut1.html#the-var-statement)\n",
    "\n",
    "Variables are defined with the standard type-annotation style you're probably familiar with if you've see Python, Rust, or TypeScript:\n",
    "\n",
    "`var (name): (type) = (value)`\n",
    "\n",
    "Or just:\n",
    "\n",
    "`var (name): (type)`\n",
    "\n",
    "So you can do:\n",
    "```nim\n",
    "var your_name: string\n",
    "```\n",
    "(this was done in the earlier ['greetings'](../src/greetings.nim) program)\n",
    "\n",
    "But you can also do multiple variables in one line like:\n",
    "\n",
    "```nim\n",
    "var apples, oranges, pears: int\n",
    "```\n",
    "\n",
    "Or even like this:\n",
    "```nim\n",
    "var\n",
    "    dollarsSaved, dollarsUsed: float\n",
    "    depositor: string\n",
    "```\n",
    "\n",
    "Huh... well I've seen multivariable declarations before, but I think these variable blocks are new.\n",
    "\n",
    "Well they're not so bad I suppose. \n",
    "\n",
    "It encourages you to put all variables in the same place or at least group like terms.\n",
    "\n"
   ]
  },
  {
   "cell_type": "markdown",
   "metadata": {
    "vscode": {
     "languageId": "plaintext"
    }
   },
   "source": [
    "<style> * { max-width: 500px; } </style>\n",
    "\n",
    "## [Constants](https://nim-lang.org/docs/tut1.html#constants)\n",
    "\n",
    "Don't we all need some constants in life?\n",
    "\n",
    "So you can use constant in the exact same way as `var`.\n",
    "\n",
    "Similar to Zig I suppose, all values are `var` or `const`.\n",
    "\n",
    "This example is given:\n",
    "```nim\n",
    "const\n",
    "  x = 1\n",
    "  # a comment can occur here too\n",
    "  y = 2\n",
    "  z = y + 5 # computations are possible\n",
    "```\n",
    "\n",
    "So unlike a lot of languages, you *can* have expressions in constants and have it evaluated at compile time rather than run time. And you don't have to resort to some funky macro side language!\n",
    "\n",
    "Great to see.\n",
    "\n",
    "\n"
   ]
  },
  {
   "cell_type": "markdown",
   "metadata": {},
   "source": [
    "<style> * { max-width: 500px; } </style>\n",
    "\n",
    "## [The let statement](https://nim-lang.org/docs/tut1.html#the-let-statement)\n",
    "\n",
    "Uh. What.\n",
    "\n",
    "So they're single assignment... how are they different from constants?\n",
    "\n",
    "Here's the example:\n",
    "```nim\n",
    "let x = \"abc\" # introduces a new variable `x` and binds a value to it\n",
    "x = \"xyz\"     # Illegal: assignment to `x`\n",
    "```\n",
    "\n",
    "Ah, okay:\n",
    "```nim\n",
    "const input = readLine(stdin) # Error: constant expression expected\n",
    "let input = readLine(stdin)   # works\n",
    "```\n",
    "\n",
    "So the `let` statement allows you to do the one time assigment during *runtime*.\n",
    "\n",
    "So this is an... immutable declaration?\n",
    "\n",
    "Not a totally new concept, there's example buts I can't think of them off the top of my head. I think they did it in Dart?\n",
    "\n",
    "Oh, and `final` in Java."
   ]
  },
  {
   "cell_type": "markdown",
   "metadata": {},
   "source": [
    "<style> * { max-width: 500px; } </style>\n",
    "\n",
    "## [The assignment statement](https://nim-lang.org/docs/tut1.html#the-assignment-statement)\n",
    "\n",
    "I suppose we'd come to this eventually.\n",
    "\n",
    "A standard `(var) = (value)` form for already defined variables.\n",
    "\n",
    "No implicit assignments! 👍\n",
    "\n",
    "Here's the example:\n",
    "```nim\n",
    "var x = \"abc\" # introduces a new variable `x` and assigns a value to it\n",
    "x = \"xyz\"     # assigns a new value to `x`\n",
    "```\n",
    "\n",
    "There's also some weirder stuff.\n"
   ]
  },
  {
   "cell_type": "code",
   "execution_count": 13,
   "metadata": {},
   "outputs": [
    {
     "data": {
      "text/plain": [
       "5\n",
       "5.04.05.0\n",
       "a=5.0 b=4.0 c=5.0\n"
      ]
     },
     "execution_count": 13,
     "metadata": {},
     "output_type": "execute_result"
    }
   ],
   "source": [
    "var x = 5\n",
    "# This doesn't work. Is tuple unpacking possible?\n",
    "#var y, z = 5, 6\n",
    "# This does. You can assign multiple variables the same value.\n",
    "var a, b, c = 5.0\n",
    "# They aren't linked in any way by doing this.\n",
    "b = 4.0\n",
    "\n",
    "echo x\n",
    "# Note that no implicit space is added. Is there a printf???\n",
    "echo a, b, c\n",
    "# You can do this but it's kind of a pain.\n",
    "# Well... at least the variables are in place with the text.\n",
    "echo \"a=\", a, \" b=\", b, \" c=\", c"
   ]
  }
 ],
 "metadata": {
  "kernelspec": {
   "display_name": "Nim",
   "language": "nim",
   "name": "jupyternimspec"
  },
  "language_info": {
   "file_extension": ".nim",
   "mimetype": "text/x-nim",
   "name": "nim",
   "version": "2.2.0"
  }
 },
 "nbformat": 4,
 "nbformat_minor": 2
}
